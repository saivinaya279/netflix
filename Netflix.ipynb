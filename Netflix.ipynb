{
  "nbformat": 4,
  "nbformat_minor": 0,
  "metadata": {
    "colab": {
      "provenance": [],
      "authorship_tag": "ABX9TyPUNe5WAAAvICiK1NU5ZSC8",
      "include_colab_link": true
    },
    "kernelspec": {
      "name": "python3",
      "display_name": "Python 3"
    },
    "language_info": {
      "name": "python"
    }
  },
  "cells": [
    {
      "cell_type": "markdown",
      "metadata": {
        "id": "view-in-github",
        "colab_type": "text"
      },
      "source": [
        "<a href=\"https://colab.research.google.com/github/saivinaya279/netflix/blob/main/Netflix.ipynb\" target=\"_parent\"><img src=\"https://colab.research.google.com/assets/colab-badge.svg\" alt=\"Open In Colab\"/></a>"
      ]
    },
    {
      "cell_type": "code",
      "execution_count": 1,
      "metadata": {
        "id": "eaX4hIc0I5tg"
      },
      "outputs": [],
      "source": [
        "# this is just to know how much time will it take to run this entire ipython notebook\n",
        "from datetime import datetime\n",
        "# globalstart = datetime.now()\n",
        "import pandas as pd\n",
        "import numpy as np\n",
        "import matplotlib\n",
        "matplotlib.use('nbagg')\n",
        "\n",
        "import matplotlib.pyplot as plt\n",
        "plt.rcParams.update({'figure.max_open_warning': 0})\n",
        "\n",
        "import seaborn as sns\n",
        "sns.set_style('whitegrid')\n",
        "import os\n",
        "from scipy import sparse\n",
        "from scipy.sparse import csr_matrix\n",
        "\n",
        "from sklearn.decomposition import TruncatedSVD\n",
        "from sklearn.metrics.pairwise import cosine_similarity\n",
        "import random"
      ]
    },
    {
      "cell_type": "markdown",
      "source": [
        " # Exploratory Data Analysis\n",
        "\n",
        "3.1 Preprocessing\n",
        "3.1.1 Converting / Merging whole data to required format: u_i, m_j, r_ij"
      ],
      "metadata": {
        "id": "LhmiPBkLN7Sr"
      }
    },
    {
      "cell_type": "code",
      "source": [
        "import os\n",
        "print(os.getcwd())\n"
      ],
      "metadata": {
        "colab": {
          "base_uri": "https://localhost:8080/"
        },
        "id": "Vap-HYKwMr3h",
        "outputId": "7d17d629-be3a-4c35-f49f-e2e9c1f7d349"
      },
      "execution_count": 3,
      "outputs": [
        {
          "output_type": "stream",
          "name": "stdout",
          "text": [
            "/content\n"
          ]
        }
      ]
    },
    {
      "cell_type": "code",
      "source": [
        "import os\n",
        "from datetime import datetime\n",
        "\n",
        "# Delete 'data.csv' if it already exists\n",
        "if os.path.exists('data.csv'):\n",
        "    start = datetime.now()\n",
        "\n",
        "# Open a new file for writing the combined data\n",
        "data = open('data.csv', mode='w')\n",
        "\n",
        "# Files to process (all inside data_folder)\n",
        "files = [\n",
        "    'combined_data_1.txt',\n",
        "    'combined_data_2.txt',\n",
        "    'combined_data_3.txt',\n",
        "    'combined_data_4.txt'\n",
        "]\n",
        "\n",
        "# Go through each file and process it\n",
        "for file in files:\n",
        "    if os.path.exists(file):\n",
        "        print(f\"Reading ratings from {file}...\")\n",
        "        with open(file) as f:\n",
        "            for line in f:\n",
        "                line = line.strip()\n",
        "                if line.endswith(':'):\n",
        "                    movie_id = line.replace(':', '')\n",
        "                else:\n",
        "                    row = [x for x in line.split(',')]\n",
        "                    row.insert(0, movie_id)  # Insert movie ID at the beginning\n",
        "                    data.write(','.join(row) + '\\n')\n",
        "        print(\"Done.\\n\")\n",
        "    else:\n",
        "        print(f\"⚠️ File not found: {file}\")\n",
        "\n",
        "data.close()\n",
        "\n",
        "print(\"✅ All available data processed.\")\n",
        "print(\"⏱️ Time taken:\", datetime.now() - start)\n"
      ],
      "metadata": {
        "colab": {
          "base_uri": "https://localhost:8080/"
        },
        "id": "1F5dBadIJL04",
        "outputId": "61c766d7-e9f6-4ac7-c46d-a425b4049665"
      },
      "execution_count": 6,
      "outputs": [
        {
          "output_type": "stream",
          "name": "stdout",
          "text": [
            "Reading ratings from combined_data_1.txt...\n",
            "Done.\n",
            "\n",
            "Reading ratings from combined_data_2.txt...\n",
            "Done.\n",
            "\n",
            "Reading ratings from combined_data_3.txt...\n",
            "Done.\n",
            "\n",
            "Reading ratings from combined_data_4.txt...\n",
            "Done.\n",
            "\n",
            "✅ All available data processed.\n",
            "⏱️ Time taken: 0:01:15.529394\n"
          ]
        }
      ]
    },
    {
      "cell_type": "code",
      "source": [],
      "metadata": {
        "id": "_R5X2rR_OLZS"
      },
      "execution_count": null,
      "outputs": []
    },
    {
      "cell_type": "markdown",
      "source": [],
      "metadata": {
        "id": "UoDpeJ55JZch"
      }
    },
    {
      "cell_type": "markdown",
      "source": [],
      "metadata": {
        "id": "SLGyqzrAI9bO"
      }
    }
  ]
}